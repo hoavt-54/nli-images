{
 "cells": [
  {
   "cell_type": "code",
   "execution_count": 2,
   "metadata": {},
   "outputs": [],
   "source": [
    "import pandas as pd"
   ]
  },
  {
   "cell_type": "code",
   "execution_count": 4,
   "metadata": {},
   "outputs": [
    {
     "name": "stdout",
     "output_type": "stream",
     "text": [
      "Number of pairs: 2726\n",
      "Number of entailment labels: 669 (0.24541452677916362%)\n",
      "Number of contradiction labels: 306 (0.11225238444607484%)\n",
      "Number of neutral labels: 1751 (0.6423330887747616%)\n"
     ]
    }
   ],
   "source": [
    "sick2 = pd.read_csv(\"SICK2/SICK2_annotated.tsv\", sep=\"\\t\")\n",
    "\n",
    "num_entailment = len(sick2.query(\"entailment_label == 'ENTAILMENT'\"))\n",
    "num_contradiction = len(sick2.query(\"entailment_label == 'CONTRADICTION'\"))\n",
    "num_neutral = len(sick2.query(\"entailment_label == 'NEUTRAL'\"))\n",
    "\n",
    "print(\"Number of pairs: {}\".format(len(sick2)))\n",
    "print(\"Number of entailment labels: {} ({}%)\".format(num_entailment, num_entailment / len(sick2)))\n",
    "print(\"Number of contradiction labels: {} ({}%)\".format(num_contradiction, num_contradiction / len(sick2)))\n",
    "print(\"Number of neutral labels: {} ({}%)\".format(num_neutral, num_neutral / len(sick2)))"
   ]
  },
  {
   "cell_type": "code",
   "execution_count": 7,
   "metadata": {},
   "outputs": [
    {
     "name": "stdout",
     "output_type": "stream",
     "text": [
      "Number of pairs: 279\n",
      "Number of entailment labels: 104 (0.3727598566308244%)\n",
      "Number of contradiction labels: 51 (0.1827956989247312%)\n",
      "Number of neutral labels: 124 (0.4444444444444444%)\n"
     ]
    }
   ],
   "source": [
    "difficult_sick2 = pd.read_csv(\"SICK2/difficult_SICK2_annotated.tsv\", sep=\"\\t\")\n",
    "\n",
    "num_entailment = len(difficult_sick2.query(\"entailment_label == 'ENTAILMENT'\"))\n",
    "num_contradiction = len(difficult_sick2.query(\"entailment_label == 'CONTRADICTION'\"))\n",
    "num_neutral = len(difficult_sick2.query(\"entailment_label == 'NEUTRAL'\"))\n",
    "\n",
    "print(\"Number of pairs: {}\".format(len(difficult_sick2)))\n",
    "print(\"Number of entailment labels: {} ({}%)\".format(num_entailment, num_entailment / len(difficult_sick2)))\n",
    "print(\"Number of contradiction labels: {} ({}%)\".format(num_contradiction, num_contradiction / len(difficult_sick2)))\n",
    "print(\"Number of neutral labels: {} ({}%)\".format(num_neutral, num_neutral / len(difficult_sick2)))"
   ]
  },
  {
   "cell_type": "code",
   "execution_count": 12,
   "metadata": {},
   "outputs": [
    {
     "name": "stdout",
     "output_type": "stream",
     "text": [
      "Number of pairs: 2749\n",
      "Number of unique images: 990\n",
      "Number of entailment labels: 682 (0.24809021462349945%)\n",
      "Number of contradiction labels: 309 (0.11240451073117497%)\n",
      "Number of neutral labels: 1758 (0.6395052746453256%)\n"
     ]
    }
   ],
   "source": [
    "vsick2 = pd.read_csv(\"VSICK2/VSICK2_annotated.tsv\", sep=\"\\t\")\n",
    "\n",
    "num_entailment = len(vsick2.query(\"entailment_label == 'ENTAILMENT'\"))\n",
    "num_contradiction = len(vsick2.query(\"entailment_label == 'CONTRADICTION'\"))\n",
    "num_neutral = len(vsick2.query(\"entailment_label == 'NEUTRAL'\"))\n",
    "\n",
    "print(\"Number of pairs: {}\".format(len(vsick2)))\n",
    "print(\"Number of unique images: {}\".format(len(set(vsick2[\"jpg\"]))))\n",
    "print(\"Number of entailment labels: {} ({}%)\".format(num_entailment, num_entailment / len(vsick2)))\n",
    "print(\"Number of contradiction labels: {} ({}%)\".format(num_contradiction, num_contradiction / len(vsick2)))\n",
    "print(\"Number of neutral labels: {} ({}%)\".format(num_neutral, num_neutral / len(vsick2)))"
   ]
  },
  {
   "cell_type": "code",
   "execution_count": 13,
   "metadata": {},
   "outputs": [
    {
     "name": "stdout",
     "output_type": "stream",
     "text": [
      "Number of pairs: 280\n",
      "Number of unique images: 249\n",
      "Number of entailment labels: 106 (0.37857142857142856%)\n",
      "Number of contradiction labels: 52 (0.18571428571428572%)\n",
      "Number of neutral labels: 122 (0.4357142857142857%)\n"
     ]
    }
   ],
   "source": [
    "difficult_vsick2 = pd.read_csv(\"VSICK2/difficult_VSICK2_annotated.tsv\", sep=\"\\t\")\n",
    "\n",
    "num_entailment = len(difficult_vsick2.query(\"entailment_label == 'ENTAILMENT'\"))\n",
    "num_contradiction = len(difficult_vsick2.query(\"entailment_label == 'CONTRADICTION'\"))\n",
    "num_neutral = len(difficult_vsick2.query(\"entailment_label == 'NEUTRAL'\"))\n",
    "\n",
    "print(\"Number of pairs: {}\".format(len(difficult_vsick2)))\n",
    "print(\"Number of unique images: {}\".format(len(set(difficult_vsick2[\"jpg\"]))))\n",
    "print(\"Number of entailment labels: {} ({}%)\".format(num_entailment, num_entailment / len(difficult_vsick2)))\n",
    "print(\"Number of contradiction labels: {} ({}%)\".format(num_contradiction, num_contradiction / len(difficult_vsick2)))\n",
    "print(\"Number of neutral labels: {} ({}%)\".format(num_neutral, num_neutral / len(difficult_vsick2)))"
   ]
  },
  {
   "cell_type": "code",
   "execution_count": null,
   "metadata": {
    "collapsed": true
   },
   "outputs": [],
   "source": []
  }
 ],
 "metadata": {
  "kernelspec": {
   "display_name": "Python 2",
   "language": "python",
   "name": "python2"
  },
  "language_info": {
   "codemirror_mode": {
    "name": "ipython",
    "version": 2
   },
   "file_extension": ".py",
   "mimetype": "text/x-python",
   "name": "python",
   "nbconvert_exporter": "python",
   "pygments_lexer": "ipython2",
   "version": "2.7.14"
  }
 },
 "nbformat": 4,
 "nbformat_minor": 2
}
